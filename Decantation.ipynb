{
 "cells": [
  {
   "cell_type": "markdown",
   "metadata": {},
   "source": [
    "# Decantation Problem"
   ]
  },
  {
   "cell_type": "markdown",
   "metadata": {},
   "source": [
    "#### 1. Formulating the problem: states, actions, initial state, goal state(s)."
   ]
  },
  {
   "cell_type": "markdown",
   "metadata": {},
   "source": [
    "States : A tuple with 3 elements having the quantity of water currently present in the three jars\n",
    "\n",
    "Initial State : (8,0,0)\n",
    "\n",
    "Actions : Transfer water from one jar to other (Transfer till its completely empty or completely full)\n",
    "\n",
    "Transition Model :  Return Tuple after transfer\n",
    "\n",
    "Goal Test : 4 litres in any of the jars"
   ]
  },
  {
   "cell_type": "code",
   "execution_count": 1,
   "metadata": {},
   "outputs": [],
   "source": [
    "from collections import defaultdict\n",
    "parent = {}\n",
    "discovered = []\n",
    "explored = []"
   ]
  },
  {
   "cell_type": "code",
   "execution_count": 2,
   "metadata": {},
   "outputs": [],
   "source": [
    "class Graph:\n",
    "    def __init__(self):\n",
    "        self.states = defaultdict(list)\n",
    "\n",
    "    def addEdge(self, u, v):\n",
    "        self.states[u].append(v)\n",
    "\n",
    "    def BFS(self, s):\n",
    "        K = list(self.states.keys())\n",
    "        visited = {}\n",
    "        for i in K:\n",
    "            visited[i] = False\n",
    "        queue = []\n",
    "        queue.append(s)\n",
    "        visited[s] = True\n",
    "        while len(queue) != 0:\n",
    "            s = queue.pop(0)\n",
    "            print(s, end=\" \")\n",
    "            for i in self.states[s]:\n",
    "                if visited[i] == False:\n",
    "                    queue.append(i)\n",
    "                    visited[i] = True\n",
    "        print()\n",
    "        \n",
    "    def BFS(self, s):\n",
    "        K = list(self.states.keys())\n",
    "        visited = {}\n",
    "        for i in K:\n",
    "            visited[i] = False\n",
    "        queue = []\n",
    "        queue.append(s)\n",
    "        visited[s] = True\n",
    "        while len(queue) != 0:\n",
    "            s = queue.pop(0)\n",
    "            print(s, end=\" \")\n",
    "            for i in self.states[s]:\n",
    "                if visited[i] == False:\n",
    "                    queue.append(i)\n",
    "                    visited[i] = True\n",
    "        print()\n",
    "        \n",
    "    def sequence(self, start):\n",
    "        explored = []\n",
    "        queue = [[start]]\n",
    "        while queue:\n",
    "            path = queue.pop(0)\n",
    "            node = path[-1]\n",
    "            if node not in explored:\n",
    "                neighbours = self.states[node]\n",
    "                for neighbour in neighbours:\n",
    "                    new_path = list(path)\n",
    "                    new_path.append(neighbour)\n",
    "                    queue.append(new_path)\n",
    "                    if(neighbour[0] == 4 or neighbour[1] == 4):\n",
    "                        return new_path\n",
    "            explored.append(node)\n",
    "        return \"END OF GRAPH\"\n",
    "    \n",
    "    def new_sequence(self, start):\n",
    "        explored = []\n",
    "        queue = [[start]]\n",
    "        while queue:\n",
    "            path = queue.pop(0)\n",
    "            node = path[-1]\n",
    "            if node not in explored:\n",
    "                neighbours = self.states[node]\n",
    "                for neighbour in neighbours:\n",
    "                    new_path = list(path)\n",
    "                    new_path.append(neighbour)\n",
    "                    queue.append(new_path)\n",
    "                    if(neighbour[0] == 4 or neighbour[1] == 4):\n",
    "                        return new_path, len(explored) + 1\n",
    "            explored.append(node)\n",
    "        return \"END OF GRAPH\", len(explored)"
   ]
  },
  {
   "cell_type": "code",
   "execution_count": 13,
   "metadata": {},
   "outputs": [
    {
     "name": "stdout",
     "output_type": "stream",
     "text": [
      "Enter Start State : 8 0 0\n"
     ]
    }
   ],
   "source": [
    "decant = Graph()\n",
    "s = tuple([int(x) for x in input(\"Enter Start State : \").split()])\n",
    "\n",
    "# add the next states of the start state to the queue\n",
    "queue = []\n",
    "for i in next_states(s):\n",
    "    decant.addEdge(s, i)\n",
    "    queue.append(i)\n",
    "\n",
    "while len(queue)!=0:\n",
    "    x = queue.pop(0)\n",
    "    for i in next_states(x):\n",
    "#         print(x)\n",
    "#         print(next_states(x))\n",
    "        decant.addEdge(x, i)\n",
    "        if i not in decant.states.keys():\n",
    "            queue.append(i)"
   ]
  },
  {
   "cell_type": "code",
   "execution_count": 6,
   "metadata": {},
   "outputs": [
    {
     "name": "stdout",
     "output_type": "stream",
     "text": [
      "(8, 0, 0)  :  [(3, 5, 0), (5, 0, 3)]\n",
      "(3, 5, 0)  :  [(8, 0, 0), (3, 2, 3), (0, 5, 3)]\n",
      "(5, 0, 3)  :  [(8, 0, 0), (0, 5, 3), (5, 3, 0)]\n",
      "(3, 2, 3)  :  [(5, 0, 3), (6, 2, 0), (0, 5, 3), (3, 5, 0)]\n",
      "(0, 5, 3)  :  [(5, 0, 3), (3, 5, 0), (5, 0, 3), (3, 5, 0), (5, 0, 3), (3, 5, 0)]\n",
      "(5, 3, 0)  :  [(8, 0, 0), (3, 5, 0), (5, 0, 3), (2, 3, 3)]\n",
      "(6, 2, 0)  :  [(8, 0, 0), (3, 5, 0), (6, 0, 2), (3, 2, 3)]\n",
      "(2, 3, 3)  :  [(5, 0, 3), (5, 3, 0), (0, 5, 3), (2, 5, 1)]\n",
      "(6, 0, 2)  :  [(8, 0, 0), (1, 5, 2), (6, 2, 0), (5, 0, 3)]\n",
      "(2, 5, 1)  :  [(7, 0, 1), (3, 5, 0), (2, 3, 3), (0, 5, 3)]\n",
      "(1, 5, 2)  :  [(6, 0, 2), (3, 5, 0), (1, 4, 3), (0, 5, 3)]\n",
      "(7, 0, 1)  :  [(8, 0, 0), (2, 5, 1), (7, 1, 0), (5, 0, 3)]\n",
      "(1, 4, 3)  :  [(5, 0, 3), (4, 4, 0), (0, 5, 3), (1, 5, 2)]\n",
      "(7, 1, 0)  :  [(8, 0, 0), (3, 5, 0), (7, 0, 1), (4, 1, 3)]\n",
      "(4, 4, 0)  :  [(8, 0, 0), (3, 5, 0), (4, 1, 3), (1, 4, 3)]\n",
      "(4, 1, 3)  :  [(5, 0, 3), (7, 1, 0), (0, 5, 3), (4, 4, 0), (5, 0, 3), (7, 1, 0), (0, 5, 3), (4, 4, 0)]\n"
     ]
    }
   ],
   "source": [
    "for k,v in decant.states.items():\n",
    "    print(k,\" : \",v)"
   ]
  },
  {
   "cell_type": "markdown",
   "metadata": {},
   "source": [
    "#### 2. Using a suitable data structure to keep track of the parent of every state. A function to print the sequence of states and actions from the initial state to the goal state has been implemented."
   ]
  },
  {
   "cell_type": "code",
   "execution_count": 7,
   "metadata": {},
   "outputs": [
    {
     "data": {
      "text/plain": [
       "[(8, 0, 0), (3, 5, 0), (3, 2, 3), (6, 2, 0), (6, 0, 2), (1, 5, 2), (1, 4, 3)]"
      ]
     },
     "execution_count": 7,
     "metadata": {},
     "output_type": "execute_result"
    }
   ],
   "source": [
    "decant.sequence(s)"
   ]
  },
  {
   "cell_type": "markdown",
   "metadata": {},
   "source": [
    "#### 3. The function next states(s) returns a list of successor states of a given state s."
   ]
  },
  {
   "cell_type": "code",
   "execution_count": 8,
   "metadata": {},
   "outputs": [],
   "source": [
    "def next_states(s):\n",
    "#     contents of container with max capacity 8, 5, 3\n",
    "    x = list()\n",
    "    c8 = s[0]\n",
    "    c5 = s[1]\n",
    "    c3 = s[2]\n",
    "    \n",
    "    if (c8 != 8):\n",
    "        if (c5 != 0):\n",
    "            pour= 8 - c8\n",
    "            if(pour>c5):\n",
    "                pour=c5\n",
    "            a = c8 + pour\n",
    "            b = c5 - pour\n",
    "            c = c3\n",
    "            x.append((a, b, c))\n",
    "            \n",
    "        if (c3 != 0):\n",
    "            pour= 8 - c8\n",
    "            if(pour>c3):\n",
    "                pour=c3\n",
    "            a = c8 + pour\n",
    "            b = c5 \n",
    "            c = c3 - pour\n",
    "            x.append((a, b, c))\n",
    "            \n",
    "    if (c5 != 5):\n",
    "        if (c8 != 0):\n",
    "            pour= 5 - c5\n",
    "            if(pour>c8):\n",
    "                pour=c8\n",
    "            a = c8 - pour\n",
    "            b = c5 + pour\n",
    "            c = c3\n",
    "            x.append((a, b, c))\n",
    "            \n",
    "        if (c3 != 0):\n",
    "            pour= 5 - c5\n",
    "            if(pour>c3):\n",
    "                pour=c3\n",
    "            a = c8 \n",
    "            b = c5 + pour\n",
    "            c = c3 - pour\n",
    "            x.append((a, b, c))\n",
    "            \n",
    "    if (c3 != 3):\n",
    "        if (c5 != 0):\n",
    "            pour= 3 - c3\n",
    "            if(pour>c5):\n",
    "                pour=c5\n",
    "            a = c8 \n",
    "            b = c5 - pour\n",
    "            c = c3 + pour\n",
    "            x.append((a, b, c))\n",
    "            \n",
    "        if (c8 != 0):\n",
    "            pour= 3 - c3\n",
    "            if(pour>c8):\n",
    "                pour=c8\n",
    "            a = c8 - pour\n",
    "            b = c5 \n",
    "            c = c3 + pour\n",
    "            x.append((a, b, c))\n",
    "    return x"
   ]
  },
  {
   "cell_type": "markdown",
   "metadata": {},
   "source": [
    "#### 4. Implementing Breadth-First-Search algorithm to search the state space graph for a goal state that produces the required sequence of pours. "
   ]
  },
  {
   "cell_type": "code",
   "execution_count": 9,
   "metadata": {},
   "outputs": [
    {
     "name": "stdout",
     "output_type": "stream",
     "text": [
      "Breadth First Search Algorithm :\n",
      "(8, 0, 0) (3, 5, 0) (5, 0, 3) (3, 2, 3) (0, 5, 3) (5, 3, 0) (6, 2, 0) (2, 3, 3) (6, 0, 2) (2, 5, 1) (1, 5, 2) (7, 0, 1) (1, 4, 3) (7, 1, 0) (4, 4, 0) (4, 1, 3) \n"
     ]
    }
   ],
   "source": [
    "print(\"Breadth First Search Algorithm :\")\n",
    "decant.BFS(s)"
   ]
  },
  {
   "cell_type": "markdown",
   "metadata": {},
   "source": [
    "#### 5. Modifying program to trace the contents of the Queue in the algorithm and finding out how many states are explored by the algorithm."
   ]
  },
  {
   "cell_type": "code",
   "execution_count": 10,
   "metadata": {},
   "outputs": [
    {
     "name": "stdout",
     "output_type": "stream",
     "text": [
      "PATH :\n",
      "[(8, 0, 0), (3, 5, 0), (3, 2, 3), (6, 2, 0), (6, 0, 2), (1, 5, 2), (1, 4, 3)]\n",
      "No of States Explored :  33\n"
     ]
    }
   ],
   "source": [
    "path,states = decant.new_sequence(s)\n",
    "print(\"PATH :\")\n",
    "print(path)\n",
    "print(\"No of States Explored : \",states)"
   ]
  }
 ],
 "metadata": {
  "kernelspec": {
   "display_name": "Python 3",
   "language": "python",
   "name": "python3"
  },
  "language_info": {
   "codemirror_mode": {
    "name": "ipython",
    "version": 3
   },
   "file_extension": ".py",
   "mimetype": "text/x-python",
   "name": "python",
   "nbconvert_exporter": "python",
   "pygments_lexer": "ipython3",
   "version": "3.7.0"
  }
 },
 "nbformat": 4,
 "nbformat_minor": 2
}
