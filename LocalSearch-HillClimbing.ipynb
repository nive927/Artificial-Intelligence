{
 "cells": [
  {
   "cell_type": "markdown",
   "metadata": {},
   "source": [
    "# Centre for a Set of Points using Hill Climbing Algorithm"
   ]
  },
  {
   "cell_type": "markdown",
   "metadata": {},
   "source": [
    "- Points A, B, C, D, E\n",
    "- Find a centre point to these points\n",
    "- Total distance of centre from all the points is minimum\n",
    "- Implement and test a hill-climbing method to find the centre for the set of points"
   ]
  },
  {
   "cell_type": "code",
   "execution_count": 6,
   "metadata": {},
   "outputs": [],
   "source": [
    "def nextstate(pt):\n",
    "    x = pt[0]\n",
    "    y = pt[1]\n",
    "    return [(x,y+1),(x+1,y),(x,y-1),(x-1,y)]"
   ]
  },
  {
   "cell_type": "code",
   "execution_count": 1,
   "metadata": {},
   "outputs": [],
   "source": [
    "# Debugging\n",
    "# a=(1,1)\n",
    "# nextstate(a)"
   ]
  },
  {
   "cell_type": "code",
   "execution_count": 7,
   "metadata": {},
   "outputs": [],
   "source": [
    "# Finding the manhattan distance\n",
    "def man_d(a,v):\n",
    "    return (abs(a[0]-v[0]) + abs(a[1]-v[1]))"
   ]
  },
  {
   "cell_type": "code",
   "execution_count": 8,
   "metadata": {},
   "outputs": [],
   "source": [
    "def sum_d(pt,S):\n",
    "    value = 0\n",
    "    for point in S:\n",
    "        value += man_d(point,pt)\n",
    "    return value"
   ]
  },
  {
   "cell_type": "code",
   "execution_count": 4,
   "metadata": {},
   "outputs": [
    {
     "name": "stdout",
     "output_type": "stream",
     "text": [
      "Enter Number of Points : 5\n",
      "Enter x and y : \n",
      "1\n",
      "1\n",
      "Enter x and y : \n",
      "2\n",
      "2\n",
      "Enter x and y : \n",
      "3\n",
      "3\n",
      "Enter x and y : \n",
      "4\n",
      "4\n",
      "Enter x and y : \n",
      "5\n",
      "5\n",
      "[(1, 1), (2, 2), (3, 3), (4, 4), (5, 5)]\n"
     ]
    }
   ],
   "source": [
    "# Driver\n",
    "n = int(input(\"Enter Number of Points : \"))\n",
    "S=[]\n",
    "for i in range(n):\n",
    "    print(\"Enter x and y : \")\n",
    "    x = int(input())\n",
    "    y = int(input())\n",
    "    S.append((x,y))\n",
    "print(S)"
   ]
  },
  {
   "cell_type": "code",
   "execution_count": 9,
   "metadata": {},
   "outputs": [
    {
     "name": "stdout",
     "output_type": "stream",
     "text": [
      "Enter Start Point :0 0\n",
      "(0, 0)\n",
      "\n",
      "Current : (0, 0)\n",
      "Value = 30\n",
      "(0, 1) 25\n",
      "(1, 0) 25\n",
      "(0, -1) 35\n",
      "(-1, 0) 35\n",
      "Queue : [(0, 1)]\n",
      "\n",
      "Current : (0, 1)\n",
      "Value = 25\n",
      "(0, 2) 22\n",
      "(1, 1) 20\n",
      "(0, 0) 30\n",
      "(-1, 1) 30\n",
      "Queue : [(0, 2), (1, 1)]\n",
      "\n",
      "Current : (0, 2)\n",
      "Value = 20\n",
      "Skip\n",
      "\n",
      "Current : (1, 1)\n",
      "Value = 20\n",
      "(1, 2) 17\n",
      "(2, 1) 17\n",
      "(1, 0) 25\n",
      "(0, 1) 25\n",
      "Queue : [(1, 2)]\n",
      "\n",
      "Current : (1, 2)\n",
      "Value = 17\n",
      "(1, 3) 16\n",
      "(2, 2) 14\n",
      "(1, 1) 20\n",
      "(0, 2) 22\n",
      "Queue : [(1, 3), (2, 2)]\n",
      "\n",
      "Current : (1, 3)\n",
      "Value = 14\n",
      "Skip\n",
      "\n",
      "Current : (2, 2)\n",
      "Value = 14\n",
      "(2, 3) 13\n",
      "(3, 2) 13\n",
      "(2, 1) 17\n",
      "(1, 2) 17\n",
      "Queue : [(2, 3)]\n",
      "\n",
      "Current : (2, 3)\n",
      "Value = 13\n",
      "(2, 4) 14\n",
      "(3, 3) 12\n",
      "(2, 2) 14\n",
      "(1, 3) 16\n",
      "Queue : [(3, 3)]\n",
      "\n",
      "Current : (3, 3)\n",
      "Value = 12\n",
      "(3, 4) 13\n",
      "(4, 3) 13\n",
      "(3, 2) 13\n",
      "(2, 3) 13\n",
      "Queue : []\n",
      "(3, 3)\n"
     ]
    }
   ],
   "source": [
    "# Inputing the Start Point (0,0) & Display Intermediate Steps\n",
    "start = tuple([int(x) for x in input(\"Enter Start Point :\").split()])\n",
    "print(start)\n",
    "current = start\n",
    "queue = []\n",
    "queue.append(start)\n",
    "value = sum_d(start,S)\n",
    "\n",
    "while queue:\n",
    "    current = queue.pop(0)\n",
    "    \n",
    "    print(\"\\nCurrent :\",current)\n",
    "    print(\"Value =\",value)\n",
    "    \n",
    "    if(sum_d(current,S)>value):\n",
    "        print(\"Skip\")\n",
    "        continue\n",
    "    \n",
    "    for x in nextstate(current):\n",
    "        print(x,sum_d(x,S))\n",
    "        if(sum_d(x,S)<value):\n",
    "            value = sum_d(x,S)\n",
    "            queue.append(x)\n",
    "    print(\"Queue :\",queue) \n",
    "\n",
    "print(current)"
   ]
  },
  {
   "cell_type": "code",
   "execution_count": 10,
   "metadata": {},
   "outputs": [],
   "source": [
    "def hill_Climb(start,S):\n",
    "    current = start\n",
    "    queue = []\n",
    "    queue.append(start)\n",
    "    value = sum_d(start,S)\n",
    "\n",
    "    while queue:\n",
    "        current = queue.pop(0)\n",
    "\n",
    "        if(sum_d(current,S)>value):\n",
    "            continue\n",
    "\n",
    "        for x in nextstate(current):\n",
    "            if(sum_d(x,S)<value):\n",
    "                value = sum_d(x,S)\n",
    "                queue.append(x)\n",
    "\n",
    "    return current"
   ]
  },
  {
   "cell_type": "code",
   "execution_count": 39,
   "metadata": {},
   "outputs": [
    {
     "name": "stdout",
     "output_type": "stream",
     "text": [
      "Enter Number of Points : 5\n",
      "Enter x y :1 7\n",
      "Enter x y :2 3\n",
      "Enter x y :4 2\n",
      "Enter x y :7 1\n",
      "Enter x y :9 4\n",
      "[(1, 7), (2, 3), (4, 2), (7, 1), (9, 4)]\n"
     ]
    }
   ],
   "source": [
    "n = int(input(\"Enter Number of Points : \"))\n",
    "S=[]\n",
    "for i in range(n):\n",
    "    p = tuple([int(x) for x in input(\"Enter x y :\").split()])\n",
    "    S.append(p)\n",
    "print(S)"
   ]
  },
  {
   "cell_type": "code",
   "execution_count": 64,
   "metadata": {},
   "outputs": [],
   "source": [
    "from random import seed\n",
    "from random import randint\n",
    "seed(1)"
   ]
  },
  {
   "cell_type": "code",
   "execution_count": 68,
   "metadata": {},
   "outputs": [
    {
     "name": "stdout",
     "output_type": "stream",
     "text": [
      "Start Point : (1, 4)\n"
     ]
    }
   ],
   "source": [
    "start = (randint(0, 10),randint(0, 10))\n",
    "print(\"Start Point :\",start)"
   ]
  },
  {
   "cell_type": "code",
   "execution_count": 69,
   "metadata": {},
   "outputs": [
    {
     "name": "stdout",
     "output_type": "stream",
     "text": [
      "Centre Point : (4, 3)\n"
     ]
    }
   ],
   "source": [
    "print(\"Centre Point :\",hill_Climb(start,S))"
   ]
  },
  {
   "cell_type": "markdown",
   "metadata": {},
   "source": [
    "# 8 Queens using Hill Climbing Algorithm"
   ]
  },
  {
   "cell_type": "markdown",
   "metadata": {},
   "source": [
    "- Solve 8-queens problem\n",
    "- Place 8 queens in a chessboard so that no queen is under attack from any other queen\n",
    "- One such “safe” configuration of 8 queens is shown below\n",
    "- Implement Hill climbing algorithm to find any one safe configuration"
   ]
  },
  {
   "cell_type": "code",
   "execution_count": 72,
   "metadata": {},
   "outputs": [],
   "source": [
    "from random import shuffle\n",
    "from random import seed\n",
    "from random import randint\n",
    "seed(1)"
   ]
  },
  {
   "cell_type": "code",
   "execution_count": 21,
   "metadata": {},
   "outputs": [],
   "source": [
    "def valuef(state):\n",
    "    attack = 0\n",
    "    row = 0\n",
    "    col = 0\n",
    "    N = len(state)\n",
    "    \n",
    "    for i in range(N):\n",
    "        \n",
    "        # Check Left\n",
    "        row = state[i]\n",
    "        col = i - 1\n",
    "        while(col>=0 and state[col]!=row):\n",
    "            col-=1\n",
    "        if(col>=0 and state[col]==row):\n",
    "            attack+=1\n",
    "        \n",
    "        # Check Right\n",
    "        row = state[i]\n",
    "        col = i + 1\n",
    "        while(col<N and state[col]!=row):\n",
    "            col+=1\n",
    "        if(col<N and state[col]==row):\n",
    "            attack+=1\n",
    "            \n",
    "        # Check Dia left up\n",
    "        row = state[i] - 1\n",
    "        col = i - 1\n",
    "        while(col>=0 and row >=0 and state[col]!=row):\n",
    "            col-=1\n",
    "            row-=1\n",
    "        if(col>=0 and row>=0 and state[col]==row):\n",
    "            attack+=1\n",
    "            \n",
    "        # Check Dia right down\n",
    "        row = state[i] + 1\n",
    "        col = i + 1\n",
    "        while(col<N and row <N and state[col]!=row):\n",
    "            col+=1\n",
    "            row+=1\n",
    "        if(col<N and row<N and state[col]==row):\n",
    "            attack+=1\n",
    "            \n",
    "        # Check Dia left down\n",
    "        row = state[i] + 1\n",
    "        col = i - 1\n",
    "        while(col>=0 and row <N and state[col]!=row):\n",
    "            col-=1\n",
    "            row+=1\n",
    "        if(col>=0 and row<N and state[col]==row):\n",
    "            attack+=1\n",
    "            \n",
    "        # Check Dia right up\n",
    "        row = state[i] - 1\n",
    "        col = i + 1\n",
    "        while(col<N and row >=0 and state[col]!=row):\n",
    "            col+=1\n",
    "            row-=1\n",
    "        if(col<N and row>=0 and state[col]==row):\n",
    "            attack+=1\n",
    "        \n",
    "    return attack//2"
   ]
  },
  {
   "cell_type": "code",
   "execution_count": 23,
   "metadata": {},
   "outputs": [],
   "source": [
    "def getnext(state):\n",
    "    curvalue = valuef(state)\n",
    "    newstate = state[:]\n",
    "    opstate = state[:]\n",
    "    N = len(state)\n",
    "    for i in range(N):\n",
    "        for j in range(N):\n",
    "            if(j!=state[i]):\n",
    "                newstate[i]=j\n",
    "                \n",
    "                temp = valuef(newstate)\n",
    "                \n",
    "                if(temp<=curvalue):\n",
    "                    curvalue = temp\n",
    "                    opstate = newstate[:]\n",
    "                \n",
    "                newstate[i]=state[i]\n",
    "    return opstate"
   ]
  },
  {
   "cell_type": "code",
   "execution_count": 44,
   "metadata": {},
   "outputs": [],
   "source": [
    "def hill_climbing(state):\n",
    "    newstate = state[:]\n",
    "    N = len(state)\n",
    "    while(True):\n",
    "        state = newstate[:]\n",
    "        newstate = getnext(state)\n",
    "        \n",
    "        if( state == newstate):\n",
    "            return state\n",
    "            \n",
    "        elif( valuef(state) == valuef(newstate)):\n",
    "            newstate[randint(0, 80)%N] = randint(0, 80)%N"
   ]
  },
  {
   "cell_type": "code",
   "execution_count": 63,
   "metadata": {},
   "outputs": [],
   "source": [
    "def display_board(state):\n",
    "    N = len(state)\n",
    "    \n",
    "    dis = []\n",
    "    \n",
    "    for i in range(N):\n",
    "        for j in range(N):\n",
    "            if(i == state[j]):\n",
    "                dis.append(j)\n",
    "    \n",
    "    for i in range(N):\n",
    "        for j in range(N):\n",
    "            if(j == dis[i]):\n",
    "                print(\"1\",end=\" \")\n",
    "            else:\n",
    "                print(\"0\",end=\" \")\n",
    "        print(\"\")"
   ]
  },
  {
   "cell_type": "code",
   "execution_count": null,
   "metadata": {},
   "outputs": [],
   "source": [
    "start = [0,1,2,3,4,5,6,7]"
   ]
  },
  {
   "cell_type": "code",
   "execution_count": 89,
   "metadata": {},
   "outputs": [
    {
     "name": "stdout",
     "output_type": "stream",
     "text": [
      "Start State : [2, 5, 0, 4, 6, 1, 3, 7]\n",
      "Solution Found\n",
      "\n",
      "Final State : [3, 7, 0, 4, 6, 1, 5, 2]\n",
      "\n",
      "Board\n",
      "\n",
      "0 0 1 0 0 0 0 0 \n",
      "0 0 0 0 0 1 0 0 \n",
      "0 0 0 0 0 0 0 1 \n",
      "1 0 0 0 0 0 0 0 \n",
      "0 0 0 1 0 0 0 0 \n",
      "0 0 0 0 0 0 1 0 \n",
      "0 0 0 0 1 0 0 0 \n",
      "0 1 0 0 0 0 0 0 \n"
     ]
    }
   ],
   "source": [
    "shuffle(start)\n",
    "print(\"Start State :\",start)\n",
    "s = hill_climbing(start)\n",
    "if(valuef(s) == 0):\n",
    "    print(\"Solution Found\")\n",
    "else:\n",
    "    print(\"Local Optimum Found\")\n",
    "    print(\"No of Attacking Pairs :\",valuef(s))\n",
    "print(\"\\nFinal State :\",s)\n",
    "print()\n",
    "print(\"Board\\n\")\n",
    "display_board(s)"
   ]
  },
  {
   "cell_type": "code",
   "execution_count": null,
   "metadata": {},
   "outputs": [],
   "source": []
  }
 ],
 "metadata": {
  "kernelspec": {
   "display_name": "Python 3",
   "language": "python",
   "name": "python3"
  },
  "language_info": {
   "codemirror_mode": {
    "name": "ipython",
    "version": 3
   },
   "file_extension": ".py",
   "mimetype": "text/x-python",
   "name": "python",
   "nbconvert_exporter": "python",
   "pygments_lexer": "ipython3",
   "version": "3.7.0"
  }
 },
 "nbformat": 4,
 "nbformat_minor": 2
}
