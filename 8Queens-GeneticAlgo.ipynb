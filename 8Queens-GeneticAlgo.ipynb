{
 "cells": [
  {
   "cell_type": "markdown",
   "metadata": {},
   "source": [
    "# Genetic Algo on 8 Queens"
   ]
  },
  {
   "cell_type": "code",
   "execution_count": 1,
   "metadata": {},
   "outputs": [],
   "source": [
    "import random"
   ]
  },
  {
   "cell_type": "code",
   "execution_count": 2,
   "metadata": {},
   "outputs": [],
   "source": [
    "def random_board():\n",
    "    return [random.randint(0, 7) for i in range(8)]\n",
    "\n",
    "def gen_mul_boards(k):\n",
    "    return [random_board() for i in range(k)]"
   ]
  },
  {
   "cell_type": "code",
   "execution_count": 3,
   "metadata": {},
   "outputs": [],
   "source": [
    "def Child(p1,p2):\n",
    "        c=random.randint(1,7)\n",
    "        x=[]\n",
    "        x.append(p1[:c] + p2[c:])\n",
    "        x.append(p2[:c] + p1[c:])\n",
    "        return x\n",
    "\n",
    "def mutate(state):\n",
    "    col = random.randint(0, 7)\n",
    "    row = random.randint(0, 7)\n",
    "    newstate=state[:]\n",
    "    newstate[col] = row\n",
    "    return newstate"
   ]
  },
  {
   "cell_type": "code",
   "execution_count": 4,
   "metadata": {},
   "outputs": [],
   "source": [
    "def display_board(state):\n",
    "    N = len(state)\n",
    "    \n",
    "    dis = []\n",
    "    \n",
    "    for i in range(N):\n",
    "        for j in range(N):\n",
    "            if(i == state[j]):\n",
    "                dis.append(j)\n",
    "    \n",
    "    for i in range(N):\n",
    "        for j in range(N):\n",
    "            if(j == dis[i]):\n",
    "                print(\"Q\",end=\" \")\n",
    "            else:\n",
    "                print(\"+\",end=\" \")\n",
    "        print(\"\")"
   ]
  },
  {
   "cell_type": "code",
   "execution_count": 5,
   "metadata": {},
   "outputs": [],
   "source": [
    "def fitness(state):\n",
    "    attack = 0\n",
    "    row = 0\n",
    "    col = 0\n",
    "    N = len(state)\n",
    "    \n",
    "    for i in range(N):\n",
    "        \n",
    "        # Check Left\n",
    "        row = state[i]\n",
    "        col = i - 1\n",
    "        while(col>=0 and state[col]!=row):\n",
    "            col-=1\n",
    "        if(col>=0 and state[col]==row):\n",
    "            attack+=1\n",
    "            #print(\"left\",state[i],state[col])\n",
    "        \n",
    "        # Check Right\n",
    "        row = state[i]\n",
    "        col = i + 1\n",
    "        while(col<N and state[col]!=row):\n",
    "            col+=1\n",
    "        if(col<N and state[col]==row):\n",
    "            attack+=1\n",
    "            #print(\"right\",state[i],state[col])\n",
    "            \n",
    "        # Check Dia left up\n",
    "        row = state[i] - 1\n",
    "        col = i - 1\n",
    "        while(col>=0 and row >=0 and state[col]!=row):\n",
    "            col-=1\n",
    "            row-=1\n",
    "        if(col>=0 and row>=0 and state[col]==row):\n",
    "            attack+=1\n",
    "            #print(\"d l u\",state[i],state[col])\n",
    "            \n",
    "        # Check Dia right down\n",
    "        row = state[i] + 1\n",
    "        col = i + 1\n",
    "        while(col<N and row <N and state[col]!=row):\n",
    "            col+=1\n",
    "            row+=1\n",
    "        if(col<N and row<N and state[col]==row):\n",
    "            attack+=1\n",
    "            #print(\"di r do\",state[i],state[col])\n",
    "            \n",
    "        # Check Dia left down\n",
    "        row = state[i] + 1\n",
    "        col = i - 1\n",
    "        while(col>=0 and row <N and state[col]!=row):\n",
    "            col-=1\n",
    "            row+=1\n",
    "        if(col>=0 and row<N and state[col]==row):\n",
    "            attack+=1\n",
    "            #print(\"dia left d\",state[i],state[col])\n",
    "            \n",
    "        # Check Dia right up\n",
    "        row = state[i] - 1\n",
    "        col = i + 1\n",
    "        while(col<N and row >=0 and state[col]!=row):\n",
    "            col+=1\n",
    "            row-=1\n",
    "        if(col<N and row>=0 and state[col]==row):\n",
    "            attack+=1\n",
    "            #print(\"dia r u\",state[i],state[col])\n",
    "        \n",
    "    return attack//2"
   ]
  },
  {
   "cell_type": "code",
   "execution_count": 6,
   "metadata": {},
   "outputs": [],
   "source": [
    "def genetic_algo(population):\n",
    "    \n",
    "    generation = 1\n",
    "    found = False\n",
    "    \n",
    "    while (found != True and generation<25):\n",
    "        \n",
    "        n = len(population)\n",
    "        \n",
    "        population = sorted(population, key = lambda x:fitness(x))\n",
    "        \n",
    "        if(fitness(population[0])==0):\n",
    "            found = True\n",
    "            break\n",
    "        \n",
    "        new_generation = []\n",
    "        s = int((10*n)/100)\n",
    "        new_generation.extend(population[:s])\n",
    "        \n",
    "        s = int((90*n)/100) \n",
    "        for i in range(s): \n",
    "            p1 = random.choice(population[:n//2]) \n",
    "            p2 = random.choice(population[:n//2]) \n",
    "            child = Child(p1,p2)\n",
    "            if(random.randint(0,10)>7):\n",
    "                new_generation.append(mutate(child[0]))\n",
    "                new_generation.append(mutate(child[1]))\n",
    "            else:\n",
    "                new_generation.extend(child)\n",
    "            \n",
    "        \n",
    "        population = new_generation\n",
    "        print(\"Generation :\",generation,\"State :\",population[0],\"Fitness :\",fitness(population[0]),\"Population Size :\",len(population))\n",
    "        \n",
    "        generation+=1\n",
    "    if(found):\n",
    "        print(\"\\nSafe Configuration Found :\")\n",
    "    else:\n",
    "        print(\"\\nBest Configuration with Fitness :\",fitness(population[0]))\n",
    "    print(\"Generation :\",generation,\"State :\",population[0],\"Fitness :\",fitness(population[0]))\n",
    "    return population[0]"
   ]
  },
  {
   "cell_type": "code",
   "execution_count": 11,
   "metadata": {},
   "outputs": [
    {
     "name": "stdout",
     "output_type": "stream",
     "text": [
      "Enter initial population size : 20\n",
      "Generation : 1 State : [4, 2, 0, 5, 3, 0, 6, 2] Fitness : 3 Population Size : 38\n",
      "Generation : 2 State : [4, 2, 0, 5, 3, 0, 6, 2] Fitness : 3 Population Size : 71\n",
      "Generation : 3 State : [4, 2, 0, 5, 3, 0, 6, 4] Fitness : 2 Population Size : 133\n",
      "Generation : 4 State : [4, 2, 0, 5, 3, 0, 6, 4] Fitness : 2 Population Size : 251\n",
      "Generation : 5 State : [4, 2, 0, 5, 3, 0, 6, 4] Fitness : 2 Population Size : 475\n",
      "Generation : 6 State : [4, 2, 0, 5, 3, 0, 6, 4] Fitness : 2 Population Size : 901\n",
      "Generation : 7 State : [4, 2, 7, 5, 3, 0, 6, 1] Fitness : 1 Population Size : 1710\n",
      "Generation : 8 State : [4, 2, 7, 5, 3, 0, 6, 1] Fitness : 1 Population Size : 3249\n",
      "Generation : 9 State : [4, 2, 7, 5, 3, 0, 6, 1] Fitness : 1 Population Size : 6172\n",
      "\n",
      "Safe Configuration Found :\n",
      "Generation : 10 State : [4, 2, 0, 5, 7, 1, 3, 6] Fitness : 0\n",
      "\n",
      "+ + Q + + + + + \n",
      "+ + + + + Q + + \n",
      "+ Q + + + + + + \n",
      "+ + + + + + Q + \n",
      "Q + + + + + + + \n",
      "+ + + Q + + + + \n",
      "+ + + + + + + Q \n",
      "+ + + + Q + + + \n"
     ]
    }
   ],
   "source": [
    "size = int(input(\"Enter initial population size : \"))\n",
    "population = gen_mul_boards(size)\n",
    "result = genetic_algo(population)\n",
    "print()\n",
    "display_board(result)"
   ]
  },
  {
   "cell_type": "code",
   "execution_count": 12,
   "metadata": {},
   "outputs": [
    {
     "name": "stdout",
     "output_type": "stream",
     "text": [
      "Enter initial population size : 50\n",
      "Generation : 1 State : [5, 3, 0, 7, 2, 5, 1, 6] Fitness : 3 Population Size : 95\n",
      "Generation : 2 State : [2, 7, 5, 1, 4, 4, 0, 3] Fitness : 2 Population Size : 179\n",
      "Generation : 3 State : [2, 7, 5, 1, 4, 4, 0, 3] Fitness : 2 Population Size : 339\n",
      "Generation : 4 State : [2, 7, 5, 1, 4, 4, 0, 3] Fitness : 2 Population Size : 643\n",
      "Generation : 5 State : [4, 7, 7, 0, 2, 5, 1, 6] Fitness : 1 Population Size : 1220\n",
      "Generation : 6 State : [4, 7, 7, 0, 2, 5, 1, 6] Fitness : 1 Population Size : 2318\n",
      "\n",
      "Safe Configuration Found :\n",
      "Generation : 7 State : [4, 7, 3, 0, 2, 5, 1, 6] Fitness : 0\n",
      "\n",
      "+ + + Q + + + + \n",
      "+ + + + + + Q + \n",
      "+ + + + Q + + + \n",
      "+ + Q + + + + + \n",
      "Q + + + + + + + \n",
      "+ + + + + Q + + \n",
      "+ + + + + + + Q \n",
      "+ Q + + + + + + \n"
     ]
    }
   ],
   "source": [
    "size = int(input(\"Enter initial population size : \"))\n",
    "population = gen_mul_boards(size)\n",
    "result = genetic_algo(population)\n",
    "print()\n",
    "display_board(result)"
   ]
  },
  {
   "cell_type": "code",
   "execution_count": 13,
   "metadata": {},
   "outputs": [
    {
     "name": "stdout",
     "output_type": "stream",
     "text": [
      "Enter initial population size : 500\n",
      "Generation : 1 State : [7, 4, 6, 0, 5, 1, 5, 7] Fitness : 2 Population Size : 950\n",
      "Generation : 2 State : [7, 4, 6, 0, 5, 1, 5, 7] Fitness : 2 Population Size : 1805\n",
      "Generation : 3 State : [7, 2, 0, 6, 4, 7, 5, 3] Fitness : 1 Population Size : 3428\n",
      "\n",
      "Safe Configuration Found :\n",
      "Generation : 4 State : [5, 2, 6, 1, 7, 4, 0, 3] Fitness : 0\n",
      "\n",
      "+ + + + + + Q + \n",
      "+ + + Q + + + + \n",
      "+ Q + + + + + + \n",
      "+ + + + + + + Q \n",
      "+ + + + + Q + + \n",
      "Q + + + + + + + \n",
      "+ + Q + + + + + \n",
      "+ + + + Q + + + \n"
     ]
    }
   ],
   "source": [
    "size = int(input(\"Enter initial population size : \"))\n",
    "population = gen_mul_boards(size)\n",
    "result = genetic_algo(population)\n",
    "print()\n",
    "display_board(result)"
   ]
  },
  {
   "cell_type": "code",
   "execution_count": null,
   "metadata": {},
   "outputs": [],
   "source": []
  }
 ],
 "metadata": {
  "kernelspec": {
   "display_name": "Python 3",
   "language": "python",
   "name": "python3"
  },
  "language_info": {
   "codemirror_mode": {
    "name": "ipython",
    "version": 3
   },
   "file_extension": ".py",
   "mimetype": "text/x-python",
   "name": "python",
   "nbconvert_exporter": "python",
   "pygments_lexer": "ipython3",
   "version": "3.7.0"
  }
 },
 "nbformat": 4,
 "nbformat_minor": 2
}
